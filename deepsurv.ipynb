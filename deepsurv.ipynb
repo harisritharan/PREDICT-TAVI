{
 "cells": [
  {
   "cell_type": "code",
   "execution_count": 1,
   "id": "ff983c69",
   "metadata": {},
   "outputs": [
    {
     "name": "stderr",
     "output_type": "stream",
     "text": [
      "C:\\Users\\harri\\anaconda3\\envs\\deepsurv\\lib\\site-packages\\scipy\\__init__.py:146: UserWarning: A NumPy version >=1.16.5 and <1.23.0 is required for this version of SciPy (detected version 1.24.3\n",
      "  warnings.warn(f\"A NumPy version >={np_minversion} and <{np_maxversion}\"\n"
     ]
    }
   ],
   "source": [
    "import deepsurvk\n",
    "import pandas as pd\n",
    "import numpy as np\n",
    "import matplotlib.pyplot as plt\n",
    "import seaborn as sns\n",
    "sns.set_theme(style=\"darkgrid\")\n",
    "import sklearn as sk\n",
    "\n",
    "from sksurv.metrics import (\n",
    "    concordance_index_ipcw,\n",
    "    concordance_index_censored,\n",
    "    brier_score,\n",
    "    cumulative_dynamic_auc\n",
    ")"
   ]
  },
  {
   "cell_type": "code",
   "execution_count": 2,
   "id": "78a77e4b",
   "metadata": {},
   "outputs": [],
   "source": [
    "import tensorflow as tf\n",
    "from tensorflow.keras.models import Sequential, load_model\n",
    "from tensorflow.keras.layers import Dense, Dropout, ActivityRegularization\n",
    "from tensorflow.keras.optimizers import Nadam\n",
    "from tensorflow.keras.regularizers import l2"
   ]
  },
  {
   "cell_type": "code",
   "execution_count": 3,
   "id": "999a6619",
   "metadata": {},
   "outputs": [],
   "source": [
    "train = pd.read_csv(\"train.csv\",index_col = 0)\n",
    "#X_train = train.query('death_observed == True or death_in_study == False')\n",
    "outcome_columns = ['death_in_study','upper_bound',\n",
    "                       'discharge_status_new','fup_status_30d_new', 'fup_status_12mth_new','lower_bound','death_observed',\n",
    "                  'event_observed', 'event_max','event_min','event_mid']\n",
    "X_train = train.drop(outcome_columns,axis=1)\n",
    "X_train = X_train.drop([\"egfr_pre\"],axis=1)\n",
    "\n",
    "\n",
    "\n",
    "y = train[[\"event_observed\",\"event_max\" ]]\n",
    "\n",
    "records = y.to_records(index=False)\n",
    "y_train = np.array(records, dtype = records.dtype.descr)\n",
    "test = pd.read_csv(\"test.csv\",index_col = 0)\n",
    "\n",
    "X_test = test.drop(outcome_columns,axis=1)\n",
    "X_test = X_test.drop([\"egfr_pre\"],axis=1)\n",
    "#X_test = X_test.loc[:,column_list]\n",
    "#X_test_scale = scaler.transform(X_test)\n",
    "#X_test_scale = pd.DataFrame(X_test_scale,columns=X_test.columns,index=test.index)\n",
    "\n",
    "y_test = test[[\"event_observed\",\"event_max\" ]]\n",
    "\n",
    "records = y_test.to_records(index=False)\n",
    "y_test = np.array(records, dtype = records.dtype.descr)"
   ]
  },
  {
   "cell_type": "code",
   "execution_count": 4,
   "id": "6b48bdb6",
   "metadata": {},
   "outputs": [],
   "source": [
    "n_features = X_train.shape[1]\n",
    "n_batch = X_train.shape[0]"
   ]
  },
  {
   "cell_type": "code",
   "execution_count": 5,
   "id": "0c2dabbd",
   "metadata": {},
   "outputs": [],
   "source": [
    "activation = 'relu'\n",
    "n_nodes = 48\n",
    "learning_rate = 0.067\n",
    "l2_reg = 16.094\n",
    "dropout = 0.147\n",
    "lr_decay =  6.494e-4\n",
    "momentum = 0.863"
   ]
  },
  {
   "cell_type": "code",
   "execution_count": 6,
   "id": "18461e02",
   "metadata": {},
   "outputs": [],
   "source": [
    "def negative_log_likelihood(E):\n",
    "    def loss(y_true, y_pred):\n",
    "        \n",
    "        hazard_ratio = tf.math.exp(y_pred)        \n",
    "        log_risk = tf.math.log(tf.math.cumsum(hazard_ratio))\n",
    "        uncensored_likelihood = tf.transpose(y_pred) - log_risk\n",
    "        censored_likelihood = uncensored_likelihood * E\n",
    "        neg_likelihood_ = -tf.math.reduce_sum(censored_likelihood)\n",
    "\n",
    "        # TODO\n",
    "        # For some reason, adding num_observed_events does not work.\n",
    "        # Therefore, for now we will use it as a simple factor of 1.\n",
    "        # Is it really needed? Isn't it just a scaling factor?\n",
    "        # num_observed_events = tf.math.cumsum(E)\n",
    "        # num_observed_events = tf.cast(num_observed_events, dtype=tf.float32)\n",
    "        num_observed_events = tf.constant(1, dtype=tf.float32)\n",
    "        \n",
    "        neg_likelihood = neg_likelihood_ / num_observed_events        \n",
    "        \n",
    "        return neg_likelihood\n",
    "    \n",
    "    return loss"
   ]
  },
  {
   "cell_type": "code",
   "execution_count": 7,
   "id": "b8260203",
   "metadata": {},
   "outputs": [
    {
     "name": "stdout",
     "output_type": "stream",
     "text": [
      "Model: \"sequential\"\n",
      "_________________________________________________________________\n",
      " Layer (type)                Output Shape              Param #   \n",
      "=================================================================\n",
      " dense (Dense)               (None, 94)                8930      \n",
      "                                                                 \n",
      " dropout (Dropout)           (None, 94)                0         \n",
      "                                                                 \n",
      " dense_1 (Dense)             (None, 48)                4560      \n",
      "                                                                 \n",
      " dropout_1 (Dropout)         (None, 48)                0         \n",
      "                                                                 \n",
      " dense_2 (Dense)             (None, 48)                2352      \n",
      "                                                                 \n",
      " dropout_2 (Dropout)         (None, 48)                0         \n",
      "                                                                 \n",
      " dense_3 (Dense)             (None, 1)                 49        \n",
      "                                                                 \n",
      " activity_regularization (A  (None, 1)                 0         \n",
      " ctivityRegularization)                                          \n",
      "                                                                 \n",
      "=================================================================\n",
      "Total params: 15891 (62.07 KB)\n",
      "Trainable params: 15891 (62.07 KB)\n",
      "Non-trainable params: 0 (0.00 Byte)\n",
      "_________________________________________________________________\n"
     ]
    }
   ],
   "source": [
    "# Create model\n",
    "model = Sequential()\n",
    "model.add(Dense(units=n_features, activation=activation, kernel_initializer='glorot_uniform', input_shape=(n_features,)))\n",
    "model.add(Dropout(dropout))\n",
    "model.add(Dense(units=n_nodes, activation=activation, kernel_initializer='glorot_uniform'))\n",
    "model.add(Dropout(dropout))\n",
    "model.add(Dense(units=n_nodes, activation=activation, kernel_initializer='glorot_uniform'))\n",
    "model.add(Dropout(dropout))\n",
    "model.add(Dense(units=1, activation='linear', kernel_initializer='glorot_uniform', kernel_regularizer=l2(l2_reg)))\n",
    "model.add(ActivityRegularization(l2=l2_reg))\n",
    "\n",
    "# Define the optimizer\n",
    "# Nadam is Adam + Nesterov momentum\n",
    "# optimizer = Nadam(learning_rate=learning_rate, decay=lr_decay, clipnorm=1) \n",
    "optimizer = Nadam(learning_rate=learning_rate, weight_decay=lr_decay)\n",
    "\n",
    "# Compile the model and show a summary of it\n",
    "model.compile(loss=negative_log_likelihood(y_train[\"event_observed\"]), optimizer=optimizer)\n",
    "model.summary()"
   ]
  },
  {
   "cell_type": "markdown",
   "id": "20d83c83",
   "metadata": {},
   "source": [
    "from sklearn.preprocessing import StandardScaler\n",
    "\n",
    "\n",
    "whasX_train, whasY_train, whasE_train, = load_whas(partition='training', data_type='np')\n",
    "X_scaler = StandardScaler().fit(whasX_train)\n",
    "whasX_train = X_scaler.transform(whasX_train)\n",
    "\n",
    "Y_scaler = StandardScaler().fit(whasY_train.reshape(-1, 1))\n",
    "whasY_train = Y_scaler.transform(whasY_train)\n",
    "whasY_train = whasY_train.flatten()\n"
   ]
  },
  {
   "cell_type": "code",
   "execution_count": 8,
   "id": "b392bed7",
   "metadata": {},
   "outputs": [],
   "source": [
    "from sklearn.preprocessing import StandardScaler\n",
    "\n",
    "\n",
    "X_scaler = StandardScaler().fit(X_train)\n",
    "X_train_scale = X_scaler.transform(X_train)\n",
    "\n",
    "Y_scaler = StandardScaler().fit(y_train[\"event_max\"].reshape(-1, 1))\n",
    "y_train_scale = Y_scaler.transform(y_train[\"event_max\"].reshape(-1, 1))\n",
    "y_train_scale = y_train_scale.flatten()"
   ]
  },
  {
   "cell_type": "code",
   "execution_count": 9,
   "id": "55bdc47b",
   "metadata": {},
   "outputs": [],
   "source": [
    "callbacks = [tf.keras.callbacks.TerminateOnNaN(),\n",
    "            tf.keras.callbacks.EarlyStopping(monitor='loss',patience=10,start_from_epoch=10,verbose=1)]\n",
    "             #tf.keras.callbacks.ModelCheckpoint(str(PATH_MODELS/f'{example_file}.h5'), monitor='loss', save_best_only=True, mode='min')]"
   ]
  },
  {
   "cell_type": "code",
   "execution_count": 10,
   "id": "2960b671",
   "metadata": {},
   "outputs": [
    {
     "name": "stdout",
     "output_type": "stream",
     "text": [
      "Epoch 1/50\n",
      "1/1 [==============================] - 3s 3s/step - loss: 76923712.0000\n",
      "Epoch 2/50\n",
      "1/1 [==============================] - 0s 339ms/step - loss: 77672376.0000\n",
      "Epoch 3/50\n",
      "1/1 [==============================] - 0s 326ms/step - loss: 77165440.0000\n",
      "Epoch 4/50\n",
      "1/1 [==============================] - 0s 354ms/step - loss: 76314952.0000\n",
      "Epoch 5/50\n",
      "1/1 [==============================] - 0s 353ms/step - loss: 76624432.0000\n",
      "Epoch 6/50\n",
      "1/1 [==============================] - 0s 344ms/step - loss: 76251776.0000\n",
      "Epoch 7/50\n",
      "1/1 [==============================] - 0s 357ms/step - loss: 76276168.0000\n",
      "Epoch 8/50\n",
      "1/1 [==============================] - 0s 368ms/step - loss: 76153104.0000\n",
      "Epoch 9/50\n",
      "1/1 [==============================] - 0s 354ms/step - loss: 76091432.0000\n",
      "Epoch 10/50\n",
      "1/1 [==============================] - 0s 349ms/step - loss: 76146104.0000\n",
      "Epoch 11/50\n",
      "1/1 [==============================] - 0s 357ms/step - loss: 76097720.0000\n",
      "Epoch 12/50\n",
      "1/1 [==============================] - 0s 360ms/step - loss: 76166328.0000\n",
      "Epoch 13/50\n",
      "1/1 [==============================] - 0s 363ms/step - loss: 76141880.0000\n",
      "Epoch 14/50\n",
      "1/1 [==============================] - 0s 349ms/step - loss: 76133496.0000\n",
      "Epoch 15/50\n",
      "1/1 [==============================] - 0s 340ms/step - loss: 76152096.0000\n",
      "Epoch 16/50\n",
      "1/1 [==============================] - 0s 349ms/step - loss: 76111520.0000\n",
      "Epoch 17/50\n",
      "1/1 [==============================] - 0s 325ms/step - loss: 76119280.0000\n",
      "Epoch 18/50\n",
      "1/1 [==============================] - 0s 345ms/step - loss: 76105504.0000\n",
      "Epoch 19/50\n",
      "1/1 [==============================] - 0s 329ms/step - loss: 76142608.0000\n",
      "Epoch 20/50\n",
      "1/1 [==============================] - 0s 346ms/step - loss: 76093624.0000\n",
      "Epoch 21/50\n",
      "1/1 [==============================] - 0s 350ms/step - loss: 76170904.0000\n",
      "Epoch 22/50\n",
      "1/1 [==============================] - 0s 333ms/step - loss: 76120736.0000\n",
      "Epoch 23/50\n",
      "1/1 [==============================] - 0s 340ms/step - loss: 76090432.0000\n",
      "Epoch 24/50\n",
      "1/1 [==============================] - 0s 352ms/step - loss: 76107656.0000\n",
      "Epoch 25/50\n",
      "1/1 [==============================] - 0s 340ms/step - loss: 76128648.0000\n",
      "Epoch 26/50\n",
      "1/1 [==============================] - 0s 336ms/step - loss: 76115824.0000\n",
      "Epoch 27/50\n",
      "1/1 [==============================] - 0s 351ms/step - loss: 76102320.0000\n",
      "Epoch 28/50\n",
      "1/1 [==============================] - 0s 340ms/step - loss: 76101952.0000\n",
      "Epoch 29/50\n",
      "1/1 [==============================] - 0s 347ms/step - loss: 76100896.0000\n",
      "Epoch 30/50\n",
      "1/1 [==============================] - 0s 325ms/step - loss: 76110280.0000\n",
      "Epoch 31/50\n",
      "1/1 [==============================] - 0s 362ms/step - loss: 76102128.0000\n",
      "Epoch 32/50\n",
      "1/1 [==============================] - 0s 339ms/step - loss: 76124344.0000\n",
      "Epoch 33/50\n",
      "1/1 [==============================] - 0s 330ms/step - loss: 76103888.0000\n",
      "Epoch 33: early stopping\n"
     ]
    }
   ],
   "source": [
    "epochs = 50\n",
    "history = model.fit(X_train_scale, y_train_scale, \n",
    "                    batch_size=n_batch, \n",
    "                    epochs=epochs, \n",
    "                    callbacks=callbacks,\n",
    "                    shuffle=True)"
   ]
  },
  {
   "cell_type": "code",
   "execution_count": 11,
   "id": "b3005c74",
   "metadata": {},
   "outputs": [
    {
     "data": {
      "text/plain": [
       "Text(0, 0.5, 'Loss [u.a.]')"
      ]
     },
     "execution_count": 11,
     "metadata": {},
     "output_type": "execute_result"
    },
    {
     "data": {
      "image/png": "[encoded data removed]",
      "text/plain": [
       "<Figure size 500x500 with 1 Axes>"
      ]
     },
     "metadata": {},
     "output_type": "display_data"
    }
   ],
   "source": [
    "fig, ax = plt.subplots(1, 1, figsize=[5, 5])\n",
    "plt.plot(history.history['loss'], label='train')\n",
    "ax.set_xlabel(\"No. epochs\")\n",
    "ax.set_ylabel(\"Loss [u.a.]\")"
   ]
  },
  {
   "cell_type": "code",
   "execution_count": 19,
   "id": "afeeb8f6",
   "metadata": {},
   "outputs": [
    {
     "name": "stdout",
     "output_type": "stream",
     "text": [
      "101/101 [==============================] - 0s 805us/step\n"
     ]
    }
   ],
   "source": [
    "X_test_scale = X_scaler.transform(X_test)\n",
    "y_predict = model.predict(X_test_scale)"
   ]
  },
  {
   "cell_type": "code",
   "execution_count": 14,
   "id": "1ef6a41d",
   "metadata": {},
   "outputs": [
    {
     "data": {
      "text/plain": [
       "array([[307.40427],\n",
       "       [305.4741 ],\n",
       "       [305.10483],\n",
       "       ...,\n",
       "       [305.82242],\n",
       "       [305.36047],\n",
       "       [306.1158 ]], dtype=float32)"
      ]
     },
     "execution_count": 14,
     "metadata": {},
     "output_type": "execute_result"
    }
   ],
   "source": [
    "Y_scaler.inverse_transform(y_predict)"
   ]
  },
  {
   "cell_type": "code",
   "execution_count": 22,
   "id": "2b6b4ca4",
   "metadata": {},
   "outputs": [
    {
     "data": {
      "text/plain": [
       "(0.46592371942199623, 148019, 185199, 444, 1754)"
      ]
     },
     "execution_count": 22,
     "metadata": {},
     "output_type": "execute_result"
    }
   ],
   "source": [
    "concordance_index_ipcw(y_train,y_test,Y_scaler.inverse_transform(y_predict).flatten(),tau=365)"
   ]
  },
  {
   "cell_type": "code",
   "execution_count": null,
   "id": "8f39032f",
   "metadata": {},
   "outputs": [],
   "source": []
  }
 ],
 "metadata": {
  "kernelspec": {
   "display_name": "deepsurv",
   "language": "python",
   "name": "deepsurv"
  },
  "language_info": {
   "codemirror_mode": {
    "name": "ipython",
    "version": 3
   },
   "file_extension": ".py",
   "mimetype": "text/x-python",
   "name": "python",
   "nbconvert_exporter": "python",
   "pygments_lexer": "ipython3",
   "version": "3.8.19"
  }
 },
 "nbformat": 4,
 "nbformat_minor": 5
}
